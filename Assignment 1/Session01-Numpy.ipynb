{
 "cells": [
  {
   "cell_type": "markdown",
   "metadata": {},
   "source": [
    "# Neoscholar Machine Learning Tutorials\n",
    "### Session 01. Introduction to Numpy, Pandas, and Matplotlib"
   ]
  },
  {
   "cell_type": "markdown",
   "metadata": {},
   "source": [
    "### Contents\n",
    "1. Numpy\n",
    "2. Pandas\n",
    "3. Matplotlib\n",
    "4. EDA(Exploratory Data Analysis)\n",
    "\n",
    "### Aim\n",
    "At the end of this session, you will be able to:\n",
    "- Understand the basics of numpy.\n",
    "- Understand the basics of pandas.\n",
    "- Understand the basics of matplotlib.\n",
    "- Perform an Exploratory Data Analysis (EDA)."
   ]
  },
  {
   "cell_type": "markdown",
   "metadata": {},
   "source": [
    "## 1. Numpy\n",
    "Python have been highlighted as a great programming language in the field of data science because it is easy to learn and supported by a number of scientific computing libraries. Numpy is one of the vital libraries that deals with mathematical computation and enables users to compute multi-dimensional data structure more efficiently and easier.\n",
    "\n",
    "### 1.1 Basics of Numpy"
   ]
  },
  {
   "cell_type": "code",
   "execution_count": null,
   "metadata": {},
   "outputs": [],
   "source": [
    "# Run this shell if you didn't install numpy\n",
    "!pip install numpy"
   ]
  },
  {
   "cell_type": "code",
   "execution_count": null,
   "metadata": {
    "scrolled": false
   },
   "outputs": [],
   "source": [
    "import numpy as np\n",
    "print(np.__version__)"
   ]
  },
  {
   "cell_type": "code",
   "execution_count": null,
   "metadata": {},
   "outputs": [],
   "source": [
    "a = np.array([1, 2, 3, 4]) # create a rank 1 array\n",
    "print(\"Type of a: \", type(a))\n",
    "print(\"Shape of a: \", a.shape)\n",
    "print(\"The first element of a: \", a[0])\n",
    "print(\"The last element of a: \", a[-1])"
   ]
  },
  {
   "cell_type": "markdown",
   "metadata": {},
   "source": [
    "### How do you initialise numpy arrays / matrix?"
   ]
  },
  {
   "cell_type": "code",
   "execution_count": null,
   "metadata": {
    "scrolled": false
   },
   "outputs": [],
   "source": [
    "\"\"\"\n",
    "TODO: Replace 'None's with appropriate answers\n",
    "e.g) b = np.None((2, 2)) --> np.ones((2, 2))\n",
    "\"\"\"\n",
    "\n",
    "# create a matrix full of ones\n",
    "b = np.None((2, 2))\n",
    "print(\"Matrix b\")\n",
    "print(b)\n",
    "\n",
    "# create a matrix full of zeros\n",
    "c = np.None((2, 3))\n",
    "print(\"\\nMatrix c\")\n",
    "print(c)\n",
    "\n",
    "# create an identity matrix\n",
    "d = np.None(3)\n",
    "print(\"\\nMatrix d\")\n",
    "print(d)\n",
    "\n",
    "# create a matrix filled with random numbers between 0 and 1\n",
    "e = np.None((2, 2))\n",
    "print(\"\\nMatrix e\")\n",
    "print(e)\n",
    "\n",
    "# create an array which has 0-9 as its element in sorted order\n",
    "# expected output: [0, 1, 2, 3, 4, 5, 6, 7, 8, 9]\n",
    "f = np.None(10)\n",
    "print(\"\\nMatrix f\")\n",
    "print(f)\n",
    "\n",
    "# create a matrix placeholder, without initializing entries (elements in the matrix).\n",
    "g = np.None((5, 3))\n",
    "print(\"\\nMatrix g\")\n",
    "print(g)\n"
   ]
  },
  {
   "cell_type": "markdown",
   "metadata": {},
   "source": [
    "### 1.2 Matrix Calculation"
   ]
  },
  {
   "cell_type": "markdown",
   "metadata": {},
   "source": [
    "- `np.transpose()` : Transpose of an array\n",
    "- `np.dot(a, b)` : Dot product of two arrays\n",
    "- `np.linalg.inv()` : Inverse matrix of an array (only valid to square matrix, whose dimension is n * n)\n",
    "- `np.diagonal()` : Diagonal components of an array\n",
    "- `a.reshape(row = x, column = y)` : Reshape an array to the given dimension"
   ]
  },
  {
   "cell_type": "code",
   "execution_count": null,
   "metadata": {},
   "outputs": [],
   "source": [
    "x = np.array([\n",
    "    [3, 11, 1],\n",
    "    [7, 5, 2],\n",
    "    [6, 8, 9],\n",
    "    [0, 10, 4]\n",
    "])"
   ]
  },
  {
   "cell_type": "code",
   "execution_count": null,
   "metadata": {},
   "outputs": [],
   "source": [
    "# To Do: Transpose an array\n",
    "\n",
    "# Expected outcome:\n",
    "# [[ 3  7  6  0]\n",
    "#  [11  5  8 10]\n",
    "#  [ 1  2  9  4]]\n",
    "transposed = None\n",
    "transposed"
   ]
  },
  {
   "cell_type": "code",
   "execution_count": null,
   "metadata": {},
   "outputs": [],
   "source": [
    "# To Do: Dot product of two arrays: original x and x_transposed\n",
    "# (4x3) dot (3x4) should give you (4x4)\n",
    "\n",
    "# Expected outcome:\n",
    "# [[131  78 115 114]\n",
    "#  [ 78  78 100  58]\n",
    "#  [115 100 181 116]\n",
    "#  [114  58 116 116]]\n",
    "y = None\n",
    "y"
   ]
  },
  {
   "cell_type": "code",
   "execution_count": null,
   "metadata": {},
   "outputs": [],
   "source": [
    "# TODO: Do elementwise multiplication with 'broadcaster' and 'x_transposed'\n",
    "# You will know what I meant by 'broadcast' once you check your result.\n",
    "\n",
    "# Expected outcome for the varible 'elementwise_broadcasting':\n",
    "# [[ 0  0  0  0]\n",
    "#  [11  5  8 10]\n",
    "#  [ 2  4 18  8]]\n",
    "\n",
    "broadcaster = np.array([\n",
    "    [0],\n",
    "    [1],\n",
    "    [2]\n",
    "])\n",
    "print(\"broadcaster: \\n{}\\n\".format(broadcaster))\n",
    "print(\"transposed: \\n{}\\n\".format(transposed))\n",
    "\n",
    "elementwise_broadcasting = None\n",
    "print(\"broadcasted: \\n{}\".format(elementwise_broadcasting))"
   ]
  },
  {
   "cell_type": "code",
   "execution_count": null,
   "metadata": {},
   "outputs": [],
   "source": [
    "# To Do: Extract the diagonal elements of an array x\n",
    "# Expected outcome: [3 5 9]\n",
    "diagonal = None\n",
    "print(diagonal)"
   ]
  },
  {
   "cell_type": "code",
   "execution_count": null,
   "metadata": {},
   "outputs": [],
   "source": [
    "# To Do: Reshape an array x to one that has 6 rows and 2 columns\n",
    "# Expected outcome: \n",
    "# [[ 3 11]\n",
    "#  [ 1  7]\n",
    "#  [ 5  2]\n",
    "#  [ 6  8]\n",
    "#  [ 9  0]\n",
    "#  [10  4]]\n",
    "reshaped = x.None(6, 2)\n",
    "print(reshaped)"
   ]
  },
  {
   "cell_type": "markdown",
   "metadata": {},
   "source": [
    "### 1.3 Statistics in Numpy"
   ]
  },
  {
   "cell_type": "markdown",
   "metadata": {},
   "source": [
    "Most of them are self-explanatory.\n",
    "\n",
    "- `np.sum()` : sum of all elements in an array\n",
    "- `np.max()` : returns maximum element in an array\n",
    "- `np.min()` : Minimum value of an array\n",
    "- `np.mean()` : Mean of elements in an array\n",
    "- `np.median()` : Median value among elements\n",
    "- `np.var()` : Variation\n",
    "- `np.std()` : Standard deviation"
   ]
  },
  {
   "cell_type": "code",
   "execution_count": null,
   "metadata": {},
   "outputs": [],
   "source": [
    "x = np.array(\n",
    "    [34, 56, 6, 3, 9, 89, 120, 12, 201],\n",
    "    dtype = np.int32\n",
    ")"
   ]
  },
  {
   "cell_type": "code",
   "execution_count": null,
   "metadata": {},
   "outputs": [],
   "source": [
    "# To Do: Summation of elements \n",
    "# Expected outcome: 530\n",
    "summation = None\n",
    "print(summation)"
   ]
  },
  {
   "cell_type": "code",
   "execution_count": null,
   "metadata": {},
   "outputs": [],
   "source": [
    "# To Do: Minimum element in the array\n",
    "# Expected outcome: 3\n",
    "minimum = None\n",
    "print(minimum)"
   ]
  },
  {
   "cell_type": "code",
   "execution_count": null,
   "metadata": {},
   "outputs": [],
   "source": [
    "# To Do: Maximum element in the array\n",
    "# Expected outcome: 201\n",
    "maximum = None\n",
    "print(maximum)"
   ]
  },
  {
   "cell_type": "code",
   "execution_count": null,
   "metadata": {},
   "outputs": [],
   "source": [
    "# To Do: Average value of elements in the array\n",
    "# Expected outcome: 58.89\n",
    "mean = None\n",
    "print(mean)"
   ]
  },
  {
   "cell_type": "code",
   "execution_count": null,
   "metadata": {},
   "outputs": [],
   "source": [
    "# To Do: Median element in the array\n",
    "# Expected outcome: 34.0\n",
    "median = None\n",
    "print(median)"
   ]
  },
  {
   "cell_type": "code",
   "execution_count": null,
   "metadata": {},
   "outputs": [],
   "source": [
    "# TO DO: Variation of x\n",
    "# Expected outcome: 4008.098765432099\n",
    "variation = None\n",
    "print(variation)"
   ]
  },
  {
   "cell_type": "code",
   "execution_count": null,
   "metadata": {},
   "outputs": [],
   "source": [
    "# To Do: Standard deviation of the array\n",
    "# Expected outcome: 63.3095471902311\n",
    "std = None\n",
    "print(std)"
   ]
  },
  {
   "cell_type": "markdown",
   "metadata": {},
   "source": [
    "### 1.4 Exercise"
   ]
  },
  {
   "cell_type": "code",
   "execution_count": null,
   "metadata": {},
   "outputs": [],
   "source": [
    "x = np.array([\n",
    "    [1, 52, 22, 2, 31, 65, 7, 8, 24, 10],\n",
    "    [12, 2322, 33, 1, 2, 3, 99, 24, 1, 42],\n",
    "    [623, 24, 3, 56, 5, 2, 7, 85, 22, 110],\n",
    "    [63, 4, 3, 4, 5, 64, 7, 82, 3, 20],\n",
    "    [48, 8, 3, 24, 57, 63, 7, 8, 9, 1032],\n",
    "    [33, 64, 0, 24, 5, 6, 72, 832, 3, 10],\n",
    "    [12, 242, 2, 11, 52, 63, 32, 8, 96, 2],\n",
    "    [13, 223, 52, 4, 35, 62, 7, 8, 9, 10],\n",
    "    [19, 2, 3, 149, 15, 6, 172, 2, 2, 11],\n",
    "    [34, 23, 32, 24, 54, 63, 1, 5, 92, 7]\n",
    "])"
   ]
  },
  {
   "cell_type": "code",
   "execution_count": null,
   "metadata": {},
   "outputs": [],
   "source": [
    "x.shape"
   ]
  },
  {
   "cell_type": "code",
   "execution_count": null,
   "metadata": {},
   "outputs": [],
   "source": [
    "# To Do: Extract the first column of x\n",
    "# expected outcome: [1 12 623 63 48 33 12 13 19 34]\n",
    "firstcol_x = None\n",
    "print(firstcol_x)"
   ]
  },
  {
   "cell_type": "code",
   "execution_count": null,
   "metadata": {},
   "outputs": [],
   "source": [
    "# To Do: extract the last row of x\n",
    "# expected outcome: [34 23 32 24 54 63 1 5 92 7]\n",
    "lastrow_x = None\n",
    "print(lastrow_x)"
   ]
  },
  {
   "cell_type": "code",
   "execution_count": null,
   "metadata": {},
   "outputs": [],
   "source": [
    "# To Do: calculate the mean of elements in the last row\n",
    "# expected outcome: 33.5\n",
    "mean_lastrow = None\n",
    "print(mean_lastrow)"
   ]
  },
  {
   "cell_type": "code",
   "execution_count": null,
   "metadata": {},
   "outputs": [],
   "source": [
    "# To Do : calculate the diagonal components of x\n",
    "# expected outcome: [1 2322 3 4 57 6 32 8 2 7]\n",
    "diag_x = None\n",
    "print(diag_x)"
   ]
  },
  {
   "cell_type": "code",
   "execution_count": null,
   "metadata": {},
   "outputs": [],
   "source": [
    "# To Do: calculate the variatoin of the Diagonal components of x\n",
    "# expected outcome: 479979.9600000001\n",
    "var_diag = None\n",
    "print(var_diag)"
   ]
  },
  {
   "cell_type": "markdown",
   "metadata": {},
   "source": [
    "### 1.5 One more Numpy Problem. (Optional)"
   ]
  },
  {
   "cell_type": "code",
   "execution_count": null,
   "metadata": {},
   "outputs": [],
   "source": [
    "def solution():\n",
    "    prime = [2, 3, 5, 7, 11]\n",
    "\n",
    "    matrix = [\n",
    "        # TODO: Try making your own matrix by using the list above, named 'prime'\n",
    "        # TODO: Try doing sth awesome. Don't just write tons of numbers.\n",
    "        # Hint: There's no right answer how you do this, but why don't you try out List Comprehension?\n",
    "                [None],\n",
    "                [None],\n",
    "                [None],\n",
    "                [None],\n",
    "                [None]\n",
    "              ]\n",
    "    # TODO: make it as a numpy array\n",
    "    matrix = None\n",
    "    # TODO: What is Diagonal of the above matrix?\n",
    "    matrix_dia = None\n",
    "\n",
    "    # TODO: What are the sum and mean of the diagonal components?\n",
    "    dia_sum = None\n",
    "    dia_mean = None\n",
    "\n",
    "    return matrix, dia_sum, dia_mean"
   ]
  },
  {
   "cell_type": "code",
   "execution_count": null,
   "metadata": {},
   "outputs": [],
   "source": [
    "# Function for printing your answers\n",
    "# Do not change this function.\n",
    "def print_answer(**kwargs):\n",
    "    for key in kwargs.keys():\n",
    "        print(key, \":\", kwargs[key])"
   ]
  },
  {
   "cell_type": "code",
   "execution_count": null,
   "metadata": {},
   "outputs": [],
   "source": [
    "matrix, dia_sum, dia_mean = solution()"
   ]
  },
  {
   "cell_type": "code",
   "execution_count": null,
   "metadata": {
    "scrolled": true
   },
   "outputs": [],
   "source": [
    "print_answer(matrix=matrix, dia_sum=dia_sum, dia_mean=dia_mean)"
   ]
  },
  {
   "cell_type": "markdown",
   "metadata": {},
   "source": [
    "### What to do next?\n",
    "Helpful websites for your further study on numpy:\n",
    "- [A Visual Intro to NumPy and Data Representation](https://jalammar.github.io/visual-numpy/?fbclid=IwAR2MT-imY4dKpUcfHWfjdPOROUBadObVO7Wftf1detHWZCxSwNeA5paVI08)\n",
    "- [Stanford CS231n Python Numpy Tutorial](http://cs231n.github.io/python-numpy-tutorial/)\n",
    "- [DataCamp Python Numpy Array Tutorial](https://www.datacamp.com/community/tutorials/python-numpy-tutorial)\n",
    "- [Machine Learning Plus 101 Numpy Exercises for Data Analysis (Python)](https://www.machinelearningplus.com/python/101-numpy-exercises-python/)"
   ]
  },
  {
   "cell_type": "code",
   "execution_count": null,
   "metadata": {},
   "outputs": [],
   "source": []
  }
 ],
 "metadata": {
  "kernelspec": {
   "display_name": "Python 3",
   "language": "python",
   "name": "python3"
  },
  "language_info": {
   "codemirror_mode": {
    "name": "ipython",
    "version": 3
   },
   "file_extension": ".py",
   "mimetype": "text/x-python",
   "name": "python",
   "nbconvert_exporter": "python",
   "pygments_lexer": "ipython3",
   "version": "3.6.12"
  }
 },
 "nbformat": 4,
 "nbformat_minor": 2
}
