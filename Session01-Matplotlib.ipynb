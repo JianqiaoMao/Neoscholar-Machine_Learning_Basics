{
 "cells": [
  {
   "cell_type": "markdown",
   "metadata": {},
   "source": [
    "# Neoscholar Machine Learning Tutorials\n",
    "### Session 01. Introduction to Numpy, Pandas and Matplotlib"
   ]
  },
  {
   "cell_type": "markdown",
   "metadata": {},
   "source": [
    "### Contents\n",
    "1. Numpy\n",
    "2. Pandas\n",
    "3. Matplotlib\n",
    "4. EDA(Exploratory Data Analysis)\n",
    "\n",
    "### Aim\n",
    "At the end of this session, you will be able to:\n",
    "- Understand the basics of numpy.\n",
    "- Understand the basics of pandas.\n",
    "- Understand the basics of matplotlib.\n",
    "- Perform a simple EDA using libraries above."
   ]
  },
  {
   "cell_type": "markdown",
   "metadata": {},
   "source": [
    "## 3. Matplotlib\n",
    "Matplotlib is a Python data visualisation library. Its plotting system is similar to that of MATLAB."
   ]
  },
  {
   "cell_type": "markdown",
   "metadata": {},
   "source": [
    "### 3.1 Basics of Matplotlib"
   ]
  },
  {
   "cell_type": "code",
   "execution_count": null,
   "metadata": {},
   "outputs": [],
   "source": [
    "# run this cell if you haven't installed matplotlib\n",
    "!pip install matplotlib"
   ]
  },
  {
   "cell_type": "markdown",
   "metadata": {},
   "source": [
    "- `%matplotlib inline` is only available for Jupyter Notebook and Jupyter QtConsole. With this backend, the output of your command will be displayed inline with frontends, directly below the code cell that produces it.\n",
    "- `%matplotlib tk` is also only available for Jupyter Notebook. The output of your command will be displayed on a new broswer."
   ]
  },
  {
   "cell_type": "code",
   "execution_count": null,
   "metadata": {},
   "outputs": [],
   "source": [
    "import numpy as np\n",
    "import pandas as pd\n",
    "import matplotlib.pyplot as plt\n",
    "%matplotlib inline\n",
    "# %matplotlib tk"
   ]
  },
  {
   "cell_type": "markdown",
   "metadata": {},
   "source": [
    "Plot a **y=sin(x)** graph."
   ]
  },
  {
   "cell_type": "code",
   "execution_count": null,
   "metadata": {},
   "outputs": [],
   "source": [
    "# declare x and y \n",
    "x = np.arange(0, 3 * np.pi, 0.1)\n",
    "y = np.sin(x)\n",
    "print(x)\n",
    "print(y)\n",
    "assert len(x)==len(y)"
   ]
  },
  {
   "cell_type": "code",
   "execution_count": null,
   "metadata": {},
   "outputs": [],
   "source": [
    "# plot a graph of sin(x)\n",
    "plt.plot(x, y)\n",
    "plt.xlabel('x')\n",
    "plt.ylabel('y')\n",
    "\n",
    "plt.title('y = sin(x)')\n",
    "plt.show()\n",
    "# plt.savefig('./image/sinGraph.png')"
   ]
  },
  {
   "cell_type": "markdown",
   "metadata": {},
   "source": [
    "Plot multiple functions: **y = x**, **y = x^2**, and **y = x^3** in one graph."
   ]
  },
  {
   "cell_type": "code",
   "execution_count": null,
   "metadata": {},
   "outputs": [],
   "source": [
    "# TODO: plot multiple graphs in one graph\n",
    "x = np.arange(10)\n",
    "x_linear = x\n",
    "x_square = x**2\n",
    "x_cubic = x**3\n",
    "\n",
    "plt.plot(x, x_linear)\n",
    "plt.plot(x, x_square)\n",
    "plt.plot(x, x_cubic)\n",
    "plt.xlabel('x axis')\n",
    "plt.ylabel('y axis')\n",
    "plt.grid()\n",
    "plt.legend(['y = x', 'y = x^2', 'y = x^3'])\n",
    "plt.title('y = x | y = x^2 | y = x^3')\n",
    "# TODO: print out the graph under this cell\n",
    "plt.show()"
   ]
  },
  {
   "cell_type": "markdown",
   "metadata": {},
   "source": [
    "### 3.2 Various Types of Plots\n",
    "Matplotlib library supports various types of graphs such as bar graph, histogram, scatter plot, area plot and pie plot. Let's use IMDB-Movie-Data again to get a better understanding of the data. Visualising data is a crucial part of EDA, which you'll get hands-on experience soon!"
   ]
  },
  {
   "cell_type": "code",
   "execution_count": null,
   "metadata": {},
   "outputs": [],
   "source": [
    "movie = pd.read_csv(\"./data/IMDB-Movie-Data.csv\")\n",
    "movie.columns"
   ]
  },
  {
   "cell_type": "markdown",
   "metadata": {},
   "source": [
    "Let's see if there is a positive correlation between `Rating` and `Revenue (Millions)` using `scatter` function. Parameter `s` controls the diameter / size of the scattered dots and `alpha` controls the degree of their transparency."
   ]
  },
  {
   "cell_type": "markdown",
   "metadata": {},
   "source": [
    "#### 3.2.1 Scatter plot"
   ]
  },
  {
   "cell_type": "code",
   "execution_count": null,
   "metadata": {
    "scrolled": false
   },
   "outputs": [],
   "source": [
    "movie.plot.scatter(x = 'Rating', y = 'Revenue (Millions)', s = 10, alpha = 1)"
   ]
  },
  {
   "cell_type": "markdown",
   "metadata": {},
   "source": [
    "They seem to have a bit of positive relationship.\n",
    "\n",
    "Now, let's try to use different colors and markers to distinguish different groups of data and their centroids."
   ]
  },
  {
   "cell_type": "code",
   "execution_count": null,
   "metadata": {},
   "outputs": [],
   "source": [
    "# Read the dataset and print the first 20 samples.\n",
    "scatters = pd.read_csv(\"./data/scatters_data.csv\",index_col=0)\n",
    "scatters['class']=list(map(int,scatters['class']))\n",
    "print(scatters.head(20))\n",
    "\n",
    "# Split the datasets according to class index\n",
    "clas=[0,1,2]\n",
    "for clsNum in clas:\n",
    "    tempData= scatters[scatters['class'].isin([clsNum])]\n",
    "    exec(\"class%s=tempData\"%clsNum)\n",
    "# Store them into a dictionary\n",
    "class_dict={'0':class0,'1':class1,'2':class2}"
   ]
  },
  {
   "cell_type": "markdown",
   "metadata": {},
   "source": [
    "Firstly, calculate centroids for each class. Centroid ($c_x$,$c_y$) of a set of equally weighted points in 2D space is simply given by:\n",
    "\n",
    "\\begin{align}\n",
    "\\begin{array}\n",
    "\\$c_x  = \\frac{\\sum_{i=1}^n{x_i}}{n} \n",
    "\\end{array} , \n",
    "\\begin{array}\n",
    "\\$c_y  = \\frac{\\sum_{i=1}^n{y_i}}{n} \n",
    "\\end{array}\n",
    "\\end{align}"
   ]
  },
  {
   "cell_type": "code",
   "execution_count": null,
   "metadata": {},
   "outputs": [],
   "source": [
    "# TODO: Calculate Cx, Cy for each class\n",
    "cx=[np.mean(class0['x']),np.mean(class1['x']),np.mean(class2['x'])] # x coordinates for centroids of class 0, 1 and 2\n",
    "cy=[np.mean(class0['y']),np.mean(class1['y']),np.mean(class2['y'])] # y coordinates for centroids of class 0, 1 and 2"
   ]
  },
  {
   "cell_type": "markdown",
   "metadata": {},
   "source": [
    "Let's plot scatters for data points by assigning different color and marker for different group. And then plot their centroids with corresponding color but same marker **X**."
   ]
  },
  {
   "cell_type": "code",
   "execution_count": null,
   "metadata": {},
   "outputs": [],
   "source": [
    "# Set potential colors and markers\n",
    "color=['r','g','b']\n",
    "marker=['o','s','v']\n",
    "# TODO: plot scatters for data points and their centroids.\n",
    "for i in clas:\n",
    "    #plot the groups of data\n",
    "    plt.scatter(class_dict[str(i)]['x'],class_dict[str(i)]['y'],color=color[i],marker=marker[i],s=100)\n",
    "    #plot centroid of each group you calculate above\n",
    "    plt.scatter(cx[i],cy[i],color=color[i],marker='x',s=200)"
   ]
  },
  {
   "cell_type": "markdown",
   "metadata": {},
   "source": [
    "#### 3.2.2 Bar plot\n",
    "Let's look into the Most Used Programming, Scripting, and Markup Languages in 2018.  \n",
    "Use `plt.bar` and `plt.xticks` to plot a 'language against Percentage' graph.\n",
    "\n",
    "`plt.xticks` has two parameters: `ticks` accepts an array to set the space between scales, `labels` accepts an arary or a list to indicate the name of each scale."
   ]
  },
  {
   "cell_type": "code",
   "execution_count": null,
   "metadata": {},
   "outputs": [],
   "source": [
    "# https://insights.stackoverflow.com/survey/2018#most-popular-technologies\n",
    "language = [\"JS\", \"HTML\", \"SQL\", \"Java\", \"Shell\", \"Python\", \"C#\"] # Name of each scale\n",
    "percentage = [69.8, 68.5, 57.0, 45.3, 39.8, 38.8, 34.4]\n",
    "\n",
    "# Generating the x positions as the scales on x axis.\n",
    "x_positions = np.array(range(len(percentage)))\n",
    "\n",
    "# TODO: Create a bar plot\n",
    "plt.bar(x_positions, percentage)\n",
    "plt.xticks(x_positions, language)\n",
    "plt.xlabel('language')\n",
    "plt.ylabel('Percentage (%)')\n",
    "plt.title(\"Most Used Programming, Scripting, and Markup Languages in 2018\")\n",
    "plt.show()"
   ]
  },
  {
   "cell_type": "markdown",
   "metadata": {},
   "source": [
    "Then, let's learn how to adjust the width of the bars.\n",
    "`plt.bar()` has a parameter called `width` which can control the width of the bars and between each bar."
   ]
  },
  {
   "cell_type": "code",
   "execution_count": null,
   "metadata": {},
   "outputs": [],
   "source": [
    "# Set the bar width(any float between 0 and 1)\n",
    "bar_width=0.5\n",
    "# TODO: Create a bar plot with different bar width\n",
    "plt.bar(x_positions, percentage,width=bar_width)\n",
    "plt.xticks(x_positions, language)\n",
    "plt.xlabel('language')\n",
    "plt.ylabel('Percentage (%)')\n",
    "plt.title(\"Most Used Programming, Scripting, and Markup Languages in 2018\")\n",
    "plt.show()\n",
    "\n",
    "# TODO: what if the bar_width is set bigger than 1?\n"
   ]
  },
  {
   "cell_type": "markdown",
   "metadata": {},
   "source": [
    "Bar charts with multiple groups are particularly useful. Let's compare the Most Used Programming, Scripting, and Markup Languages in 2020 with that in 2018.\n",
    "On this occasion, we are going to add labels, grids and each bar's value. Mind that the attributes used for `AxeSubplot` object may partially differ from these in the previous cases of directly using `pyplot` module.\n",
    "\n",
    "`set_xticks()` is to set the ticks' position on x axis.\n",
    "\n",
    "`set_xticklabels()` maps elements in `language` to each tick position.\n",
    "\n",
    "`yaxis.grid()` sets the grids in y direction\n",
    "\n",
    "`legend()` places a legend, where the parameter `loc='best'` indicates that the location of the legend card is determined automatically. \n",
    "\n",
    "`annotate()` add text/annotation in the chart. Parameter `test` is the annotation content, `xy` is position of annotating point and `xytext` is the postion of annotation content."
   ]
  },
  {
   "cell_type": "code",
   "execution_count": null,
   "metadata": {},
   "outputs": [],
   "source": [
    "# language = [\"JS\", \"HTML\", \"SQL\", \"Java\", \"Shell\", \"Python\", \"C#\"]\n",
    "\n",
    "# The first group (2018) of language popularity\n",
    "percentage_2018 = percentage\n",
    "# The second group (2020) of language popularity\n",
    "percentage_2020 = [67.8, 63.5, 54.4, 41.1, 36.6, 41.7, 31.0]\n",
    "\n",
    "fig,ax=plt.subplots()\n",
    "# set bar width to 0.4, then it gives 0.1 bar padding.\n",
    "barwidth=0.4\n",
    "# Plot the first group of data\n",
    "ax.bar(x_positions, percentage_2018, width=barwidth, label='2018')\n",
    "# Plot the second group of data\n",
    "ax.bar(x_positions+barwidth, percentage_2020, width=barwidth, label='2020')\n",
    "\n",
    "# TODO: set proper ticks, labels, grids, and bars' value\n",
    "ax.set_xticks(ticks= x_positions+0.5*barwidth) # Set the ticks in the center of the two bars\n",
    "ax.set_xticklabels(language)\n",
    "ax.set_yticks(ticks=range(0,100,10)) # Set the ticks on y axis by 10% spacing\n",
    "ax.yaxis.grid(True)\n",
    "\n",
    "# add the value of each bar\n",
    "for xy in zip(x_positions, percentage_2018):\n",
    "    ax.annotate(text=\"%s\" % xy[1], xy=xy, xytext=(-15, 10), textcoords='offset points')\n",
    "for xy in zip(x_positions+barwidth, percentage_2020):\n",
    "    ax.annotate(text=\"%s\" % xy[1], xy=xy, xytext=(-10, 10), textcoords='offset points')\n",
    "ax.legend(loc='best')\n",
    "ax.set_xlabel('language')\n",
    "ax.set_ylabel('Percentage (%)')\n",
    "fig.suptitle(\"Comparison of Most Used Programming Languages in 2018 and 2020\")"
   ]
  },
  {
   "cell_type": "markdown",
   "metadata": {},
   "source": [
    "It is often useful to use horizontal bars, particularly if there are a lot of them. The transformation from vertical chart to horizontal chart only requires replacing `bar` method with its horizontal counterpart `barh`, and simply switch the axis labels, grids, etc."
   ]
  },
  {
   "cell_type": "code",
   "execution_count": null,
   "metadata": {},
   "outputs": [],
   "source": [
    "# TODO: Rewrite the counterpart horizontal bar chart by referring to the previous case.\n",
    "y_positions=np.array(range(len(percentage)))\n",
    "fig,ax=plt.subplots()\n",
    "# Very similar to the previous example\n",
    "# Plot the first group of data\n",
    "ax.barh(None) \n",
    "# Plot the second group of data\n",
    "ax.barh(None)\n",
    "ax.set_yticks(ticks=None)\n",
    "ax.set_yticklabels(None)\n",
    "ax.set_xticks(None)\n",
    "ax.xaxis.grid(None)\n",
    "for xy in zip(percentage_2018,y_positions):\n",
    "    ax.annotate(None)\n",
    "for xy in zip(percentage_2020,y_positions+barwidth):\n",
    "    ax.annotate(None)\n",
    "ax.legend(loc=None)\n",
    "ax.set_ylabel('language')\n",
    "ax.set_xlabel('Percentage (%)')\n",
    "fig.suptitle(\"Comparison of Most Used Programming Languages in 2018 and 2020\")"
   ]
  },
  {
   "cell_type": "markdown",
   "metadata": {},
   "source": [
    "### 3.3 (Advanced) Matplotlib Exercise"
   ]
  },
  {
   "cell_type": "code",
   "execution_count": null,
   "metadata": {},
   "outputs": [],
   "source": [
    "# TODO: Draw 4 graphs in total in one figure\n",
    "# Hint: https://matplotlib.org/api/_as_gen/matplotlib.pyplot.subplots.html\n",
    "# You can see great example code from the url above\n",
    "\n",
    "fig, axes = plt.subplots(2, 2)  # this is where you need to use subplots\n",
    "\n",
    "# TODO: Scatter Graph (Upper left)\n",
    "x = np.random.randn(50)\n",
    "y = np.random.randn(50)\n",
    "colors = np.random.randint(0, 100, 50)\n",
    "sizes = 500 * np.pi * np.random.rand(50) ** 2\n",
    "axes[0, 0].scatter(x,y)\n",
    "\n",
    "\n",
    "# TODO: Bar Graph (Upper right)\n",
    "x = np.arange(10)\n",
    "axes[0, 1].bar(x, x ** 2)\n",
    "\n",
    "# TODO: Multi-Bar Graph (Lower left) -> Understand how it works!!\n",
    "x = np.random.rand(3)\n",
    "y = np.random.rand(3)\n",
    "z = np.random.rand(3)\n",
    "data = [x, y, z]\n",
    "\n",
    "x_ax = np.arange(3)\n",
    "for i in x_ax:\n",
    "    axes[1, 0].bar(x_ax, data[i], bottom=np.sum(data[:i], axis=0))\n",
    "axes[1, 0].set_xticks(x_ax)\n",
    "axes[1, 0].set_xticklabels(['A', 'B', 'C'])\n",
    "\n",
    "# TODO: Histogram Graph (Lower right)\n",
    "data = np.random.randn(1000)\n",
    "axes[1,1].hist(data, bins=40)\n",
    "\n",
    "# TODO: Either show the image or save it to png file\n",
    "plt.show()"
   ]
  },
  {
   "cell_type": "markdown",
   "metadata": {},
   "source": [
    "### What to do next?\n",
    "Below websites would be helpful for your further study on matplotlib:\n",
    "- [DataCamp Matplotlib Tutorial: Python Plotting](https://www.datacamp.com/community/tutorials/matplotlib-tutorial-python)\n",
    "- [Matplotlib official website](https://matplotlib.org/#)\n",
    "- [Python Plotting With Matplotlib (Guide)](https://realpython.com/python-matplotlib-guide/)\n",
    "- [Different plotting using pandas and matplotlib](https://www.geeksforgeeks.org/different-plotting-using-pandas-and-matplotlib/)\n",
    "- [Matplotlib tutorial for beginner](https://github.com/rougier/matplotlib-tutorial)"
   ]
  }
 ],
 "metadata": {
  "kernelspec": {
   "display_name": "Python 3",
   "language": "python",
   "name": "python3"
  },
  "language_info": {
   "codemirror_mode": {
    "name": "ipython",
    "version": 3
   },
   "file_extension": ".py",
   "mimetype": "text/x-python",
   "name": "python",
   "nbconvert_exporter": "python",
   "pygments_lexer": "ipython3",
   "version": "3.6.12"
  }
 },
 "nbformat": 4,
 "nbformat_minor": 2
}
